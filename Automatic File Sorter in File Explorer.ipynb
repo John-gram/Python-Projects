{
 "cells": [
  {
   "cell_type": "code",
   "execution_count": 10,
   "id": "7c762727",
   "metadata": {},
   "outputs": [],
   "source": [
    "import os, shutil"
   ]
  },
  {
   "cell_type": "code",
   "execution_count": 11,
   "id": "54c19bbd",
   "metadata": {},
   "outputs": [],
   "source": [
    "path = r\"C:/Users/JOHN/Documents/DATA ANALYSIS BOOTCAMP/PYTHON TUTORIAL/Automated File Sorter in File Explorer/\""
   ]
  },
  {
   "cell_type": "code",
   "execution_count": 12,
   "id": "a5a60ba9",
   "metadata": {},
   "outputs": [],
   "source": [
    "file_name = os.listdir(path)"
   ]
  },
  {
   "cell_type": "code",
   "execution_count": 13,
   "id": "9460dbf4",
   "metadata": {},
   "outputs": [
    {
     "name": "stdout",
     "output_type": "stream",
     "text": [
      "C:/Users/JOHN/Documents/DATA ANALYSIS BOOTCAMP/PYTHON TUTORIAL/Automated File Sorter in File Explorer/image files\n",
      "C:/Users/JOHN/Documents/DATA ANALYSIS BOOTCAMP/PYTHON TUTORIAL/Automated File Sorter in File Explorer/pdf files\n",
      "C:/Users/JOHN/Documents/DATA ANALYSIS BOOTCAMP/PYTHON TUTORIAL/Automated File Sorter in File Explorer/csv files\n",
      "There are Files in this Path that were not moved!\n"
     ]
    }
   ],
   "source": [
    "folder_names = ['image files', 'pdf files', 'csv files']\n",
    "\n",
    "for loop in range(0,3):\n",
    "    if not os.path.exists(path + folder_names[loop]):\n",
    "        print(path + folder_names[loop])\n",
    "        os.makedirs(path + folder_names[loop])\n",
    "        \n",
    "for file in file_name:\n",
    "    if \".png\" in file and not os.path.exists(path + \"image files/\" + file):\n",
    "        shutil.move(path + file, path + \"image files/\" + file)\n",
    "    elif \".pdf\" in file and not os.path.exists(path + \"pdf files/\" + file):\n",
    "        shutil.move(path + file, path + \"pdf files/\" + file)\n",
    "    elif \".csv\" in file and not os.path.exists(path + \"csv files/\" + file):\n",
    "        shutil.move(path + file, path + \"csv files/\" + file)\n",
    "    else:\n",
    "        print(\"There are Files in this Path that were not moved!\")\n"
   ]
  },
  {
   "cell_type": "code",
   "execution_count": null,
   "id": "d412e03c",
   "metadata": {},
   "outputs": [],
   "source": []
  },
  {
   "cell_type": "code",
   "execution_count": null,
   "id": "3e02004f",
   "metadata": {},
   "outputs": [],
   "source": []
  },
  {
   "cell_type": "code",
   "execution_count": null,
   "id": "a91e5d37",
   "metadata": {},
   "outputs": [],
   "source": []
  },
  {
   "cell_type": "code",
   "execution_count": null,
   "id": "696d5d93",
   "metadata": {},
   "outputs": [],
   "source": []
  },
  {
   "cell_type": "code",
   "execution_count": null,
   "id": "21859d86",
   "metadata": {},
   "outputs": [],
   "source": []
  },
  {
   "cell_type": "code",
   "execution_count": null,
   "id": "276df312",
   "metadata": {},
   "outputs": [],
   "source": []
  },
  {
   "cell_type": "code",
   "execution_count": null,
   "id": "3edb5684",
   "metadata": {},
   "outputs": [],
   "source": []
  },
  {
   "cell_type": "code",
   "execution_count": null,
   "id": "4f7f6554",
   "metadata": {},
   "outputs": [],
   "source": []
  }
 ],
 "metadata": {
  "kernelspec": {
   "display_name": "Python 3 (ipykernel)",
   "language": "python",
   "name": "python3"
  },
  "language_info": {
   "codemirror_mode": {
    "name": "ipython",
    "version": 3
   },
   "file_extension": ".py",
   "mimetype": "text/x-python",
   "name": "python",
   "nbconvert_exporter": "python",
   "pygments_lexer": "ipython3",
   "version": "3.11.4"
  }
 },
 "nbformat": 4,
 "nbformat_minor": 5
}
